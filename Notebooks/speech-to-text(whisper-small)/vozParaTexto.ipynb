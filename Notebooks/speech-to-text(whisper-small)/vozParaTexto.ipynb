{
  "cells": [
    {
      "cell_type": "markdown",
      "metadata": {
        "id": "pb---MnQHXVZ"
      },
      "source": [
        "Passo 1 - Instalar todas as depedências necessárias:"
      ]
    },
    {
      "cell_type": "code",
      "execution_count": null,
      "metadata": {
        "colab": {
          "base_uri": "https://localhost:8080/"
        },
        "id": "DBsONI5aHeoJ",
        "outputId": "df2ad7ae-8b3d-42e6-8912-33b4bd515eb7"
      },
      "outputs": [],
      "source": [
        "!pip install pydub\n",
        "!pip install nltk\n",
        "!pip install ffmpeg-python\n",
        "!apt-get update && apt-get install -y ffmpeg\n",
        "!pip install git+https://github.com/openai/whisper.git"
      ]
    },
    {
      "cell_type": "markdown",
      "metadata": {
        "id": "M5TmMN-SHivl"
      },
      "source": [
        "Passo 2 - Importar bibliotecas e preparar o ambiente\n"
      ]
    },
    {
      "cell_type": "code",
      "execution_count": null,
      "metadata": {
        "colab": {
          "base_uri": "https://localhost:8080/"
        },
        "id": "N0UUrzjDHp1f",
        "outputId": "5646c9f8-6fef-4f57-a4a6-039cabaa8e95"
      },
      "outputs": [],
      "source": [
        "from google.colab import files\n",
        "import os\n",
        "import nltk\n",
        "from pydub import AudioSegment\n",
        "from IPython.display import Audio, display\n",
        "\n",
        "nltk.download('punkt')\n",
        "\n",
        "print(\"✅ Todas as bibliotecas foram carregadas com sucesso!\")"
      ]
    },
    {
      "cell_type": "markdown",
      "metadata": {
        "id": "nLoN3CvWHtnA"
      },
      "source": [
        "Passo 3 - Upload do arquivo e funções para processamento"
      ]
    },
    {
      "cell_type": "code",
      "execution_count": null,
      "metadata": {
        "colab": {
          "base_uri": "https://localhost:8080/",
          "height": 92
        },
        "id": "mqyD4tx8K160",
        "outputId": "63753a84-13d3-4a8d-ca93-fa4207e113df"
      },
      "outputs": [],
      "source": [
        "from google.colab import files\n",
        "uploaded = files.upload()  # Aqui guardar o resultado em uma variável\n",
        "file_name = list(uploaded.keys())[0]\n",
        "print(f\"Arquivo recebido: {file_name}\")"
      ]
    },
    {
      "cell_type": "code",
      "execution_count": null,
      "metadata": {
        "colab": {
          "base_uri": "https://localhost:8080/",
          "height": 146
        },
        "id": "sEGAjdvEH7IW",
        "outputId": "43bfdd22-9e70-4037-cbd3-cd3639eb489e"
      },
      "outputs": [],
      "source": [
        "def convert_audio(input_file):\n",
        "    print(f\"Convertendo {input_file} para WAV...\")\n",
        "    audio = AudioSegment.from_file(input_file)\n",
        "    wav_file = input_file.split('.')[0] + '.wav'\n",
        "    audio.export(wav_file, format=\"wav\")\n",
        "    print(f\"✅ Arquivo convertido: {wav_file}\")\n",
        "    return wav_file\n",
        "\n",
        "wav_file = convert_audio(file_name)\n",
        "\n",
        "# Mostrar áudio\n",
        "print(\"\\nPré-visualização do áudio:\")\n",
        "from IPython.display import Audio, display\n",
        "display(Audio(wav_file))"
      ]
    },
    {
      "cell_type": "markdown",
      "metadata": {
        "id": "ClhgNLGIHs9_"
      },
      "source": [
        "Passo 4 - Transcrever o arquivo"
      ]
    },
    {
      "cell_type": "code",
      "execution_count": null,
      "metadata": {
        "colab": {
          "base_uri": "https://localhost:8080/"
        },
        "id": "J1Vz_7tTH_al",
        "outputId": "36eee666-8eb9-4605-e1fa-7750e40a4d23"
      },
      "outputs": [],
      "source": [
        "# Função de transcrição\n",
        "def transcribe_audio(audio_file):\n",
        "    print(\"Carregando modelo Whisper (small)...\")\n",
        "    import whisper\n",
        "    model = whisper.load_model(\"small\")\n",
        "\n",
        "    print(f\"Transcrevendo o áudio... (isso pode demorar alguns minutos)\")\n",
        "    result = model.transcribe(audio_file)\n",
        "\n",
        "    return result[\"text\"]\n",
        "\n",
        "# Agora use a função\n",
        "print(\"Iniciando transcrição...\")\n",
        "transcribed_text = transcribe_audio(wav_file)\n",
        "\n",
        "# Exibindo parte do texto transcrito (para verificar)\n",
        "print(\"Prévia da transcrição:\")\n",
        "print(transcribed_text[:300] + \"...\" if len(transcribed_text) > 300 else transcribed_text)"
      ]
    },
    {
      "cell_type": "markdown",
      "metadata": {
        "id": "8VhiLjcnIBEw"
      },
      "source": [
        "Passo 5 - Formata o texto da transcrição"
      ]
    },
    {
      "cell_type": "code",
      "execution_count": null,
      "metadata": {
        "colab": {
          "base_uri": "https://localhost:8080/",
          "height": 108
        },
        "id": "xrmZo-OrIHKQ",
        "outputId": "f0793205-5407-4e80-8d0c-9a7ce2012680"
      },
      "outputs": [],
      "source": [
        "def format_text_simple(text):\n",
        "    # Limpar espaços extras\n",
        "    text = ' '.join(text.split())\n",
        "\n",
        "    # Dividir em frases usando pontuação (método simples)\n",
        "    sentences = []\n",
        "    current = \"\"\n",
        "\n",
        "    for char in text:\n",
        "        current += char\n",
        "        if char in ['.', '!', '?'] and len(current.strip()) > 0:\n",
        "            sentences.append(current.strip())\n",
        "            current = \"\"\n",
        "\n",
        "    if current.strip():\n",
        "        sentences.append(current.strip())\n",
        "\n",
        "    # Formatação das frases\n",
        "    formatted_text = \"\"\n",
        "    for i, sentence in enumerate(sentences):\n",
        "        # Capitalizar a primeira letra\n",
        "        if len(sentence) > 0:\n",
        "            sentence = sentence[0].upper() + sentence[1:]\n",
        "\n",
        "        formatted_text += sentence + \" \"\n",
        "\n",
        "        # Quebra de parágrafo a cada 4 frases\n",
        "        if (i + 1) % 4 == 0:\n",
        "            formatted_text += \"\\n\\n\"\n",
        "\n",
        "    return formatted_text\n",
        "\n",
        "# Usa a função \"simples\"\n",
        "formatted_text = format_text_simple(transcribed_text)\n",
        "\n",
        "# Exibe o resultado formatado\n",
        "print(\"\\n=== TEXTO FORMATADO ===\")\n",
        "print(formatted_text[:500] + \"...\" if len(formatted_text) > 500 else formatted_text)\n",
        "\n",
        "# Salva em arquivo e fazer download\n",
        "output_file = \"transcricao.txt\"\n",
        "with open(output_file, 'w', encoding='utf-8') as f:\n",
        "    f.write(formatted_text)\n",
        "\n",
        "# Download do arquivo final\n",
        "from google.colab import files\n",
        "files.download(output_file)\n",
        "print(f\"✅ Concluído! Texto salvo em: {output_file}\")"
      ]
    }
  ],
  "metadata": {
    "colab": {
      "provenance": []
    },
    "kernelspec": {
      "display_name": "Python 3",
      "name": "python3"
    },
    "language_info": {
      "name": "python"
    }
  },
  "nbformat": 4,
  "nbformat_minor": 0
}
