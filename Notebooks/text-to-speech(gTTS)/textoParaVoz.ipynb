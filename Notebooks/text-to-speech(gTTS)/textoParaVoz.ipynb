{
 "cells": [
  {
   "cell_type": "markdown",
   "metadata": {},
   "source": [
    "Passo 1 - Instalar o gTTS"
   ]
  },
  {
   "cell_type": "code",
   "execution_count": null,
   "metadata": {},
   "outputs": [],
   "source": [
    "!pip install gTTS"
   ]
  },
  {
   "cell_type": "markdown",
   "metadata": {},
   "source": [
    "Passo 2 - Campo de entrada de texto (com fallback para ambiente de execução)"
   ]
  },
  {
   "cell_type": "code",
   "execution_count": null,
   "metadata": {},
   "outputs": [],
   "source": [
    "try:\n",
    "    from google.colab import output\n",
    "    from IPython.display import display\n",
    "    import ipywidgets as widgets\n",
    "except ImportError:\n",
    "    print(\"Você não está no Google Colab. Usando input padrão.\")\n",
    "\n",
    "try:\n",
    "    texto_widget = widgets.Textarea(\n",
    "        value='Digite aqui o texto que deseja converter para fala.',\n",
    "        placeholder='Escreva algo em português...',\n",
    "        description='Texto:',\n",
    "        layout=widgets.Layout(width='100%', height='100px')\n",
    "    )\n",
    "    display(texto_widget)\n",
    "except:\n",
    "    texto_widget = None"
   ]
  },
  {
   "cell_type": "markdown",
   "metadata": {},
   "source": [
    "Passo 3 - Converte texto em áudio com gTTS"
   ]
  },
  {
   "cell_type": "code",
   "execution_count": null,
   "metadata": {},
   "outputs": [],
   "source": [
    "from gtts import gTTS\n",
    "\n",
    "if texto_widget:\n",
    "    texto = texto_widget.value\n",
    "else:\n",
    "    texto = input(\"Digite o texto para transformar em áudio: \")\n",
    "\n",
    "tts = gTTS(text=texto, lang='pt')\n",
    "tts.save(\"fala.mp3\")\n",
    "print(\"Áudio gerado com sucesso!\")"
   ]
  },
  {
   "cell_type": "markdown",
   "metadata": {},
   "source": [
    "Passo 4 - Reproduz o áudio gerado"
   ]
  },
  {
   "cell_type": "code",
   "execution_count": null,
   "metadata": {},
   "outputs": [],
   "source": [
    "from IPython.display import Audio\n",
    "\n",
    "Audio(\"fala.mp3\")"
   ]
  }
 ],
 "metadata": {
  "language_info": {
   "name": "python"
  }
 },
 "nbformat": 4,
 "nbformat_minor": 2
}
